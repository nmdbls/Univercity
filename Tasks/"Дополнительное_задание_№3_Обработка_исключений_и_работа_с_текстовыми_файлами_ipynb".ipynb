{
  "cells": [
    {
      "cell_type": "markdown",
      "metadata": {
        "id": "view-in-github",
        "colab_type": "text"
      },
      "source": [
        "<a href=\"https://colab.research.google.com/github/nmdbls/Univercity/blob/main/Tasks/%22%D0%94%D0%BE%D0%BF%D0%BE%D0%BB%D0%BD%D0%B8%D1%82%D0%B5%D0%BB%D1%8C%D0%BD%D0%BE%D0%B5_%D0%B7%D0%B0%D0%B4%D0%B0%D0%BD%D0%B8%D0%B5_%E2%84%963_%D0%9E%D0%B1%D1%80%D0%B0%D0%B1%D0%BE%D1%82%D0%BA%D0%B0_%D0%B8%D1%81%D0%BA%D0%BB%D1%8E%D1%87%D0%B5%D0%BD%D0%B8%D0%B9_%D0%B8_%D1%80%D0%B0%D0%B1%D0%BE%D1%82%D0%B0_%D1%81_%D1%82%D0%B5%D0%BA%D1%81%D1%82%D0%BE%D0%B2%D1%8B%D0%BC%D0%B8_%D1%84%D0%B0%D0%B9%D0%BB%D0%B0%D0%BC%D0%B8_ipynb%22.ipynb\" target=\"_parent\"><img src=\"https://colab.research.google.com/assets/colab-badge.svg\" alt=\"Open In Colab\"/></a>"
      ]
    },
    {
      "cell_type": "markdown",
      "id": "bb332bf9",
      "metadata": {
        "id": "bb332bf9"
      },
      "source": [
        "# **Дополнительное задание №3. Обработка исключений и работа с текстовыми файлами**"
      ]
    },
    {
      "cell_type": "markdown",
      "id": "aa6808db",
      "metadata": {
        "id": "aa6808db"
      },
      "source": [
        "**БАЗА:**\n",
        "\n",
        "- **Обработка исключений** позволяет перехватывать и обрабатывать ошибки, возникающие при выполнении программы, предотвращая её аварийное завершение.\n",
        "- **Работа с файлами** - важный навык для чтения, записи и обработки текстовой информации в Python.\n",
        "\n",
        "---"
      ]
    },
    {
      "cell_type": "markdown",
      "id": "2478deca",
      "metadata": {
        "id": "2478deca"
      },
      "source": [
        "## **I. Обработка исключений**"
      ]
    },
    {
      "cell_type": "markdown",
      "id": "0ab0b851",
      "metadata": {
        "id": "0ab0b851"
      },
      "source": [
        "### **Пункт №1. Обработка некорректного индекса (IndexError)**"
      ]
    },
    {
      "cell_type": "markdown",
      "id": "46e69e1f",
      "metadata": {
        "id": "46e69e1f"
      },
      "source": [
        "Создайте список из нескольких элементов (например, [10, 20, 30]). Попросите пользователя ввести индекс элемента, который нужно вывести. Если пользователь введёт индекс, выходящий за границы списка, перехватите IndexError и сообщите об этом.\n",
        "\n",
        "**ОБЯЗАТЕЛЬНО:**\n",
        "- Создайте список из минимум 5 элементов\n",
        "- Покажите содержимое списка перед работой\n",
        "- Протестируйте минимум 4 случая (корректный индекс, отрицательный, слишком большой, нечисловое значение)"
      ]
    },
    {
      "cell_type": "code",
      "execution_count": 1,
      "id": "724c5954",
      "metadata": {
        "id": "724c5954",
        "colab": {
          "base_uri": "https://localhost:8080/"
        },
        "outputId": "4a656f80-f0dc-4497-88ab-a400f1f47b35"
      },
      "outputs": [
        {
          "output_type": "stream",
          "name": "stdout",
          "text": [
            "Введи индекс: 24738\n",
            "Ты вышел за рамки допустимого\n"
          ]
        }
      ],
      "source": [
        "try:\n",
        "    a = [10, 20, 30, 40, 50]\n",
        "    s = int(input('Введи индекс: '))\n",
        "    print(f'Твое число: {a[s]}')\n",
        "except IndexError:\n",
        "    print('Ты вышел за рамки допустимого')\n",
        "except ValueError:\n",
        "    print('Индекс это число!')"
      ]
    },
    {
      "cell_type": "markdown",
      "id": "7ac84eec",
      "metadata": {
        "id": "7ac84eec"
      },
      "source": [
        "---"
      ]
    },
    {
      "cell_type": "markdown",
      "id": "f8bfb6e1",
      "metadata": {
        "id": "f8bfb6e1"
      },
      "source": [
        "### **Пункт №2. Обработка исключений в цикле**"
      ]
    },
    {
      "cell_type": "markdown",
      "id": "63c3b706",
      "metadata": {
        "id": "63c3b706"
      },
      "source": [
        "Напишите программу, которая запрашивает у пользователя числа и добавляет их в список.\n",
        "- Если пользователь вводит некорректные данные, программа должна выводить сообщение об ошибке и продолжать работу.\n",
        "- Для выхода из программы пользователь должен ввести \"стоп\".\n",
        "\n",
        "**ОБЯЗАТЕЛЬНО:**\n",
        "- Покажите процесс ввода минимум 7 значений (включая ошибочные)\n",
        "- Выведите финальный список и статистику (сколько чисел введено успешно, сколько ошибок)"
      ]
    },
    {
      "cell_type": "markdown",
      "source": [
        "\n",
        "\n",
        "```\n",
        "# Пример:\n",
        "# Введите число: 10\n",
        "# Введите число: текст (Ошибка: это не число)\n",
        "# Введите число: стоп\n",
        "# Итоговый список: [10]\n",
        "```\n",
        "\n"
      ],
      "metadata": {
        "id": "aiWaEPOuoHDS"
      },
      "id": "aiWaEPOuoHDS"
    },
    {
      "cell_type": "code",
      "execution_count": 2,
      "id": "31448e09",
      "metadata": {
        "id": "31448e09",
        "colab": {
          "base_uri": "https://localhost:8080/"
        },
        "outputId": "c80873f3-bafc-4579-db21-140d0d473ab9"
      },
      "outputs": [
        {
          "output_type": "stream",
          "name": "stdout",
          "text": [
            "Введите число: 1\n",
            "Введите число: 2\n",
            "Введите число: 3\n",
            "Введите число: 4\n",
            "Введите число: 5\n",
            "Введите число: аршпвк\n",
            "Ошибка: это не число\n",
            "Введите число: укнпиук\n",
            "Ошибка: это не число\n",
            "Введите число: стоп\n",
            "Итоговый список: [1, 2, 3, 4, 5]\n",
            "Хороший ввод: 5\n",
            "Плохой ввод: 2\n"
          ]
        }
      ],
      "source": [
        "a = input('Введите число: ')\n",
        "s = []\n",
        "good = 0\n",
        "bad = 0\n",
        "while a != 'стоп':\n",
        "    try:\n",
        "        s.append(int(a))\n",
        "        good += 1\n",
        "    except ValueError:\n",
        "        print('Ошибка: это не число')\n",
        "        bad += 1\n",
        "    a = input('Введите число: ')\n",
        "print(f'Итоговый список: {s}')\n",
        "print(f'Хороший ввод: {good}')\n",
        "print(f'Плохой ввод: {bad}')\n"
      ]
    },
    {
      "cell_type": "markdown",
      "metadata": {
        "id": "Yv-FNYTEp0vV"
      },
      "source": [
        "---"
      ],
      "id": "Yv-FNYTEp0vV"
    },
    {
      "cell_type": "markdown",
      "id": "5971f85d",
      "metadata": {
        "id": "5971f85d"
      },
      "source": [
        "### **Пункт №3**"
      ]
    },
    {
      "cell_type": "markdown",
      "id": "b1457074",
      "metadata": {
        "id": "b1457074"
      },
      "source": [
        "Создайте функцию `get_list_element(lst, index)`, которая безопасно извлекает элемент списка по индексу с использованием блоков `try`, `except`, `else` и `finally`.\n",
        "\n",
        "Функция должна:\n",
        "- Обрабатывать выход за пределы списка\n",
        "- Обрабатывать некорректный тип индекса\n",
        "- Выводить сообщение о попытке доступа в блоке `finally`\n",
        "\n",
        "**ОБЯЗАТЕЛЬНО:**\n",
        "- Выведите результаты для минимум 4 различных случаев (успешный доступ, выход за границы, отрицательный индекс, нечисловой индекс)\n",
        "- Покажите, что блок `finally` выполняется всегда\n",
        "\n",
        "```python\n",
        "# Пример использования:\n",
        "my_list = [1, 2, 3, 4, 5]\n",
        "get_list_element(my_list, 2)   # Вывод: \"Элемент: 3\", \"Попытка доступа завершена\"\n",
        "get_list_element(my_list, 10)  # Вывод: \"Индекс вне диапазона\", \"Попытка доступа завершена\"\n",
        "```"
      ]
    },
    {
      "cell_type": "code",
      "execution_count": 1,
      "id": "1c067cf3",
      "metadata": {
        "id": "1c067cf3",
        "colab": {
          "base_uri": "https://localhost:8080/"
        },
        "outputId": "4b320984-42a9-48d0-bf8c-262a24d7436e"
      },
      "outputs": [
        {
          "output_type": "stream",
          "name": "stdout",
          "text": [
            "Элемент: 3\n",
            "Попытка доступа завершена\n",
            "Индекс вне диапазона\n",
            "Попытка доступа завершена\n",
            "Элемент: 5\n",
            "Попытка доступа завершена\n",
            "Индекс это число!\n",
            "Попытка доступа завершена\n"
          ]
        }
      ],
      "source": [
        "def get_list_element(lst, index):\n",
        "    try:\n",
        "        s = lst[index]\n",
        "    except IndexError:\n",
        "        print(\"Индекс вне диапазона\")\n",
        "    except TypeError:\n",
        "        print(\"Индекс это число!\")\n",
        "    else:\n",
        "        print(f\"Элемент: {s}\")\n",
        "    finally:\n",
        "        print(\"Попытка доступа завершена\")\n",
        "\n",
        "my_list = [1, 2, 3, 4, 5]\n",
        "get_list_element(my_list, 2)\n",
        "get_list_element(my_list, 10)\n",
        "get_list_element(my_list, -1)\n",
        "get_list_element(my_list, 'a')"
      ]
    },
    {
      "cell_type": "markdown",
      "id": "b5bb39c7",
      "metadata": {
        "id": "b5bb39c7"
      },
      "source": [
        "---"
      ]
    },
    {
      "cell_type": "markdown",
      "id": "b0972d59",
      "metadata": {
        "id": "b0972d59"
      },
      "source": [
        "## **II. Работа с текстовыми файлами**"
      ]
    },
    {
      "cell_type": "markdown",
      "id": "35729435",
      "metadata": {
        "id": "35729435"
      },
      "source": [
        "### **Пункт №1. Запись в файл**"
      ]
    },
    {
      "cell_type": "markdown",
      "id": "3121365f",
      "metadata": {
        "id": "3121365f"
      },
      "source": [
        "Напишите программу, которая запрашивает у пользователя строку и записывает её в файл output.txt в режиме дозаписи.\n",
        "\n",
        "**ОБЯЗАТЕЛЬНО:**\n",
        "- Запросите у пользователя минимум 3 строки\n",
        "- Покажите содержимое файла после записи"
      ]
    },
    {
      "cell_type": "code",
      "execution_count": 3,
      "id": "cbce6c5f",
      "metadata": {
        "id": "cbce6c5f",
        "colab": {
          "base_uri": "https://localhost:8080/"
        },
        "outputId": "76898fdc-cb91-49e6-ed72-c0d4c2829a5b"
      },
      "outputs": [
        {
          "output_type": "stream",
          "name": "stdout",
          "text": [
            "Введи 1 строку из 3:ровап\n",
            "Введи 2 строку из 3:повра\n",
            "Введи 3 строку из 3:аврпв\n",
            "шывиаф\n",
            "ышгварп\n",
            "вашгпр\n",
            "ровап\n",
            "повра\n",
            "аврпв\n",
            "\n"
          ]
        }
      ],
      "source": [
        "for i in range(3):\n",
        "    a = input(f'Введи {1 + i} строку из 3:')\n",
        "    with open(\"output.txt\", \"a\", encoding=\"utf-8\") as file:\n",
        "        file.write(a + '\\n')\n",
        "\n",
        "f = open(\"output.txt\", \"r\", encoding=\"utf-8\").read()\n",
        "print(f)"
      ]
    },
    {
      "cell_type": "markdown",
      "id": "361b3d2b",
      "metadata": {
        "id": "361b3d2b"
      },
      "source": [
        "---"
      ]
    },
    {
      "cell_type": "markdown",
      "id": "cce864b4",
      "metadata": {
        "id": "cce864b4"
      },
      "source": [
        "### **Пункт №2. Чтение из файла**"
      ]
    },
    {
      "cell_type": "markdown",
      "id": "4fc83b82",
      "metadata": {
        "id": "4fc83b82"
      },
      "source": [
        "Напишите программу, которая открывает файл output.txt и выводит его содержимое на экран.\n",
        "\n",
        "**ОБЯЗАТЕЛЬНО:**\n",
        "- Создайте файл с минимум 5 строками текста\n",
        "- Покажите содержимое файла целиком\n",
        "- Обработайте случай отсутствующего файла"
      ]
    },
    {
      "cell_type": "code",
      "execution_count": 7,
      "id": "df27a986",
      "metadata": {
        "id": "df27a986",
        "colab": {
          "base_uri": "https://localhost:8080/"
        },
        "outputId": "8fa2992d-63d9-4c4b-f8e1-ffaea4ec3c22"
      },
      "outputs": [
        {
          "output_type": "stream",
          "name": "stdout",
          "text": [
            "Файл не найден\n"
          ]
        }
      ],
      "source": [
        "try:\n",
        "    f = open(\"outpаut.txt\", \"r\", encoding=\"utf-8\").read()\n",
        "    print(f)\n",
        "except FileNotFoundError:\n",
        "    print('Файл не найден')"
      ]
    },
    {
      "cell_type": "markdown",
      "id": "2be296a2",
      "metadata": {
        "id": "2be296a2"
      },
      "source": [
        "---"
      ]
    },
    {
      "cell_type": "markdown",
      "id": "045696ba",
      "metadata": {
        "id": "045696ba"
      },
      "source": [
        "### **Пункт №3. Подсчет строк в файле**"
      ]
    },
    {
      "cell_type": "markdown",
      "id": "570ac3e9",
      "metadata": {
        "id": "570ac3e9"
      },
      "source": [
        "Напишите программу, которая открывает файл output.txt и подсчитывает количество строк в нём.\n",
        "\n",
        "**ОБЯЗАТЕЛЬНО:**\n",
        "- Создайте тестовый файл с известным количеством строк (минимум 10)\n",
        "- Покажите первые 3 строки файла\n",
        "- Выведите общее количество строк\n",
        "- Выведите количество непустых строк"
      ]
    },
    {
      "cell_type": "code",
      "execution_count": 8,
      "id": "84aa205a",
      "metadata": {
        "id": "84aa205a",
        "colab": {
          "base_uri": "https://localhost:8080/"
        },
        "outputId": "433d27f8-77c4-4125-d897-a002c78324f5"
      },
      "outputs": [
        {
          "output_type": "stream",
          "name": "stdout",
          "text": [
            "Первые 3 строки:\n",
            "шывиаф\n",
            "ышгварп\n",
            "вашгпр\n",
            "Всего строк: 6\n",
            "Непустых: 6\n"
          ]
        }
      ],
      "source": [
        "with open(\"output.txt\", \"r\") as f:\n",
        "    s = f.readlines()\n",
        "\n",
        "print(\"Первые 3 строки:\")\n",
        "for i in range(3):\n",
        "    print(s[i].strip())\n",
        "a = len(s)\n",
        "print(f\"Всего строк: {a}\")\n",
        "nulle = 0\n",
        "for sttr in s:\n",
        "    if sttr.strip():\n",
        "        nulle += 1\n",
        "print(f\"Непустых: {nulle}\")"
      ]
    },
    {
      "cell_type": "markdown",
      "id": "94c6dcb0",
      "metadata": {
        "id": "94c6dcb0"
      },
      "source": [
        "---"
      ]
    },
    {
      "cell_type": "markdown",
      "id": "56f2a74e",
      "metadata": {
        "id": "56f2a74e"
      },
      "source": [
        "### **Пункт №4. Копирование содержимого файла**"
      ]
    },
    {
      "cell_type": "markdown",
      "id": "ed736046",
      "metadata": {
        "id": "ed736046"
      },
      "source": [
        "Напишите программу, которая копирует содержимое файла input.txt в файл output.txt.\n",
        "\n",
        "**ОБЯЗАТЕЛЬНО:**\n",
        "- Создайте исходный файл с тестовым содержимым (минимум 5 строк)\n",
        "- Покажите содержимое исходного файла\n",
        "- Выполните копирование\n",
        "- Покажите содержимое скопированного файла\n",
        "- Обработайте случай отсутствия исходного файла"
      ]
    },
    {
      "cell_type": "code",
      "execution_count": 9,
      "id": "31bd8a06",
      "metadata": {
        "id": "31bd8a06",
        "colab": {
          "base_uri": "https://localhost:8080/"
        },
        "outputId": "e255ff83-fbd0-40d2-e131-9500475b9c8f"
      },
      "outputs": [
        {
          "output_type": "stream",
          "name": "stdout",
          "text": [
            "Введи строку\n",
            "выавы\n",
            "Введи строку\n",
            "выарыв\n",
            "Введи строку\n",
            "выарыв\n",
            "Введи строку\n",
            "ыпквп\n",
            "Введи строку\n",
            "ывар\n",
            "Содержимое input.txt:\n",
            "выавывыарыввыарывыпквпывар\n",
            "Содержимое output.txt:\n",
            "выавывыарыввыарывыпквпывар\n"
          ]
        }
      ],
      "source": [
        "with open(\"input.txt\", \"w\") as f:\n",
        "    for i in range(5):\n",
        "        f.write(input('Введи строку\\n'))\n",
        "try:\n",
        "    print(\"Содержимое input.txt:\")\n",
        "    with open(\"input.txt\", \"r\") as f:\n",
        "        print(f.read())\n",
        "    with open(\"input.txt\", \"r\") as cop:\n",
        "        with open(\"output.txt\", \"w\") as cop2:\n",
        "            cop2.write(cop.read())\n",
        "    print(\"Содержимое output.txt:\")\n",
        "    with open(\"output.txt\", \"r\") as f:\n",
        "        print(f.read())\n",
        "except FileNotFoundError:\n",
        "    print(\"Файл не найден!\")"
      ]
    },
    {
      "cell_type": "markdown",
      "id": "2f7c8ee5",
      "metadata": {
        "id": "2f7c8ee5"
      },
      "source": [
        "---"
      ]
    },
    {
      "cell_type": "markdown",
      "id": "70ee398b",
      "metadata": {
        "id": "70ee398b"
      },
      "source": [
        "### **Пункт №5. Поиск слова в файле**"
      ]
    },
    {
      "cell_type": "markdown",
      "id": "c67f8987",
      "metadata": {
        "id": "c67f8987"
      },
      "source": [
        "Напишите программу, которая открывает файл output.txt и проверяет, содержится ли в нём слово, введённое пользователем.\n",
        "\n",
        "**ОБЯЗАТЕЛЬНО:**\n",
        "- Создайте файл с минимум 10 строками текста\n",
        "- Покажите содержимое файла\n",
        "- Протестируйте поиск минимум 5 различных слов\n",
        "- Выведите номера строк, где найдено слово\n",
        "- Покажите количество вхождений слова"
      ]
    },
    {
      "cell_type": "code",
      "execution_count": 10,
      "id": "d961bbf3",
      "metadata": {
        "id": "d961bbf3",
        "colab": {
          "base_uri": "https://localhost:8080/"
        },
        "outputId": "9ff58391-bef1-4aa4-bb05-1b8f37750311"
      },
      "outputs": [
        {
          "output_type": "stream",
          "name": "stdout",
          "text": [
            "Содержимое файла:\n",
            "0\n",
            "1\n",
            "2\n",
            "3\n",
            "4\n",
            "5\n",
            "6\n",
            "7\n",
            "8\n",
            "9\n",
            "\n",
            "Cлово для поиска rdfg\n",
            "Такого слова нет\n",
            "Cлово для поиска 4\n",
            "Найдено в строках: [5]\n",
            "Всего вхождений: 1\n",
            "Cлово для поиска dsfsd\n",
            "Такого слова нет\n",
            "Cлово для поиска 4\n",
            "Найдено в строках: [5]\n",
            "Всего вхождений: 1\n",
            "Cлово для поиска 7\n",
            "Найдено в строках: [8]\n",
            "Всего вхождений: 1\n"
          ]
        }
      ],
      "source": [
        "with open(\"output.txt\", \"w\") as f:\n",
        "    for i in range(10):\n",
        "        f.write(f\"{str(i)}\\n\")\n",
        "print(\"Содержимое файла:\")\n",
        "with open(\"output.txt\", \"r\") as f:\n",
        "    print(f.read())\n",
        "\n",
        "for i in range(5):\n",
        "    inp = input(\"Cлово для поиска \")\n",
        "    with open(\"output.txt\", \"r\") as f:\n",
        "        s = f.readlines()\n",
        "    good = []\n",
        "    for i, sttr in enumerate(s, 1):\n",
        "        if inp in sttr:\n",
        "            good.append(i)\n",
        "    if len(good) > 0:\n",
        "        print(f\"Найдено в строках: {good}\")\n",
        "        print(f\"Всего вхождений: {len(good )}\")\n",
        "    else:\n",
        "        print('Такого слова нет')"
      ]
    },
    {
      "cell_type": "markdown",
      "id": "8d69c77a",
      "metadata": {
        "id": "8d69c77a"
      },
      "source": [
        "---"
      ]
    },
    {
      "cell_type": "markdown",
      "id": "0079e067",
      "metadata": {
        "id": "0079e067"
      },
      "source": [
        "### **Пункт №6. Чтение файла с обработкой FileNotFoundError**"
      ]
    },
    {
      "cell_type": "markdown",
      "id": "c3d27312",
      "metadata": {
        "id": "c3d27312"
      },
      "source": [
        "Напишите программу, которая запрашивает у пользователя имя файла и пытается открыть его. Если файла не существует, перехватите FileNotFoundError и выведите сообщение «Файл не найден!».\n",
        "\n",
        "**ОБЯЗАТЕЛЬНО:**\n",
        "- Протестируйте с существующим файлом\n",
        "- Протестируйте с несуществующим файлом\n",
        "- Покажите содержимое существующего файла"
      ]
    },
    {
      "cell_type": "code",
      "execution_count": 15,
      "id": "0c262bd2",
      "metadata": {
        "id": "0c262bd2",
        "colab": {
          "base_uri": "https://localhost:8080/"
        },
        "outputId": "480eed3c-d924-4321-f459-38d512ba9574"
      },
      "outputs": [
        {
          "output_type": "stream",
          "name": "stdout",
          "text": [
            "Содержимое файла:\n",
            "0\n",
            "1\n",
            "2\n",
            "3\n",
            "4\n",
            "5\n",
            "6\n",
            "7\n",
            "8\n",
            "9\n",
            "\n",
            "Файл не найден!\n"
          ]
        }
      ],
      "source": [
        "def file(n):\n",
        "  try:\n",
        "      with open(n, \"r\") as f:\n",
        "          print(\"Содержимое файла:\")\n",
        "          return f.read()\n",
        "  except FileNotFoundError:\n",
        "      return\"Файл не найден!\"\n",
        "\n",
        "print(file('output.txt'))\n",
        "print(file('output111.txt'))"
      ]
    },
    {
      "cell_type": "markdown",
      "id": "c3258b46",
      "metadata": {
        "id": "c3258b46"
      },
      "source": [
        "---"
      ]
    },
    {
      "cell_type": "markdown",
      "id": "02e0767b",
      "metadata": {
        "id": "02e0767b"
      },
      "source": [
        "### **Пункт №7. Подсчет статистики файла**"
      ]
    },
    {
      "cell_type": "markdown",
      "id": "1c33b711",
      "metadata": {
        "id": "1c33b711"
      },
      "source": [
        "Напишите функцию `file_statistics(filename)`, которая читает текстовый файл и возвращает словарь со статистикой:\n",
        "- Количество строк\n",
        "- Количество слов\n",
        "- Количество символов (с пробелами и без)\n",
        "\n",
        "**ОБЯЗАТЕЛЬНО:**\n",
        "- Создайте тестовый файл с минимум 5 строками текста\n",
        "- Выведите содержимое файла ДО обработки\n",
        "- Выведите полученную статистику\n",
        "- Обработайте случай несуществующего файла\n",
        "\n",
        "```python\n",
        "# Создание тестового файла\n",
        "test_content = \"\"\"Первая строка текста\n",
        "Вторая строка с большим количеством слов\n",
        "Третья строка\n",
        "Четвертая строка для теста\n",
        "Пятая и последняя строка\"\"\"\n",
        "\n",
        "# Сохраните в файл и продемонстрируйте работу\n",
        "```"
      ]
    },
    {
      "cell_type": "code",
      "execution_count": 16,
      "id": "43bfd6b8",
      "metadata": {
        "id": "43bfd6b8",
        "colab": {
          "base_uri": "https://localhost:8080/"
        },
        "outputId": "d46fce33-df2d-4e4f-a22e-a0ebf6902385"
      },
      "outputs": [
        {
          "output_type": "stream",
          "name": "stdout",
          "text": [
            "Содержимое файла:\n",
            "Первая строка текста\n",
            "Вторая строка с большим количеством слов\n",
            "Третья строка\n",
            "Четвертая строка для теста\n",
            "Пятая и последняя строка\n",
            "Статистика:\n",
            "Строк: 5\n",
            "Слов: 19\n",
            "Символов: 127\n",
            "Символов не считая пробелы: 113\n"
          ]
        }
      ],
      "source": [
        "def file_statistics(filename):\n",
        "    try:\n",
        "        with open(filename, \"r\") as f:\n",
        "            t = f.read()\n",
        "        strok = t.count('\\n') + 1\n",
        "        slove = len(t.split())\n",
        "        simvl = len(t)\n",
        "        simvl2 = len(t.replace(' ', ''))\n",
        "        return {\n",
        "            'lines': strok,\n",
        "            'words': slove,\n",
        "            'chars_with_spaces': simvl,\n",
        "            'chars_without_spaces': simvl2\n",
        "             }\n",
        "    except:\n",
        "        return None\n",
        "\n",
        "\n",
        "\n",
        "test_content = \"\"\"Первая строка текста\n",
        "Вторая строка с большим количеством слов\n",
        "Третья строка\n",
        "Четвертая строка для теста\n",
        "Пятая и последняя строка\"\"\"\n",
        "with open(\"test.txt\", \"w\") as f:\n",
        "    f.write(test_content)\n",
        "print(\"Содержимое файла:\")\n",
        "print(test_content)\n",
        "stat = file_statistics(\"test.txt\")\n",
        "\n",
        "print(\"Статистика:\")\n",
        "print(f\"Строк: {stat['lines']}\")\n",
        "print(f\"Слов: {stat['words']}\")\n",
        "print(f\"Символов: {stat['chars_with_spaces']}\")\n",
        "print(f\"Символов не считая пробелы: {stat['chars_without_spaces']}\")"
      ]
    },
    {
      "cell_type": "markdown",
      "id": "903281dd",
      "metadata": {
        "id": "903281dd"
      },
      "source": [
        "---"
      ]
    },
    {
      "cell_type": "markdown",
      "id": "ad8b4ae4",
      "metadata": {
        "id": "ad8b4ae4"
      },
      "source": [
        "### **Пункт №8. Поиск и замена в файле**"
      ]
    },
    {
      "cell_type": "markdown",
      "id": "e5230d0a",
      "metadata": {
        "id": "e5230d0a"
      },
      "source": [
        "Напишите функцию `replace_in_file(filename, old_text, new_text)`, которая заменяет все вхождения `old_text` на `new_text` в файле и сохраняет результат в новый файл с префиксом \"modified_\".\n",
        "\n",
        "**ОБЯЗАТЕЛЬНО:**\n",
        "- Создайте файл с текстом, содержащим минимум 3 вхождения заменяемого слова\n",
        "- Выведите содержимое файла ДО замены\n",
        "- Выполните замену\n",
        "- Выведите содержимое файла ПОСЛЕ замены\n",
        "- Покажите количество произведенных замен"
      ]
    },
    {
      "cell_type": "code",
      "execution_count": 17,
      "id": "64a05e35",
      "metadata": {
        "id": "64a05e35",
        "colab": {
          "base_uri": "https://localhost:8080/"
        },
        "outputId": "4c29b2e7-78a6-4836-964b-bf7ffeed5fc1"
      },
      "outputs": [
        {
          "output_type": "stream",
          "name": "stdout",
          "text": [
            "До замены:\n",
            "Привет Андрей\n",
            "Привет Аня\n",
            "Привет Ваня\n",
            "\n",
            "После замены:\n",
            "Пока Андрей\n",
            "Пока Аня\n",
            "Пока Ваня\n",
            "\n",
            "Замен: 3\n"
          ]
        }
      ],
      "source": [
        "def replace_in_file(filename, old_text, new_text):\n",
        "    with open(filename, \"r\") as f:\n",
        "        text = f.read()\n",
        "    new_text = text.replace(old_text, new_text)\n",
        "    count = text.count(old_text)\n",
        "    with open(\"modified_\" + filename, \"w\") as f:\n",
        "        f.write(new_text)\n",
        "    return count\n",
        "\n",
        "\n",
        "with open(\"texxt.txt\", \"w\") as f:\n",
        "    f.write(\"Привет Андрей\\n\")\n",
        "    f.write(\"Привет Аня\\n\")\n",
        "    f.write(\"Привет Ваня\\n\")\n",
        "print(\"До замены:\")\n",
        "with open(\"texxt.txt\", \"r\") as f:\n",
        "    print(f.read())\n",
        "count = replace_in_file(\"texxt.txt\", \"Привет\", \"Пока\")\n",
        "print(\"После замены:\")\n",
        "with open(\"modified_texxt.txt\", \"r\") as f:\n",
        "    print(f.read())\n",
        "print(f\"Замен: {count}\")"
      ]
    },
    {
      "cell_type": "markdown",
      "id": "f77b0568",
      "metadata": {
        "id": "f77b0568"
      },
      "source": [
        "---"
      ]
    },
    {
      "cell_type": "markdown",
      "id": "79a081b1",
      "metadata": {
        "id": "79a081b1"
      },
      "source": [
        "### **Пункт №9. Объединение файлов**"
      ]
    },
    {
      "cell_type": "markdown",
      "id": "599cee3c",
      "metadata": {
        "id": "599cee3c"
      },
      "source": [
        "Создайте функцию `merge_files(file_list, output_file)`, которая объединяет содержимое нескольких текстовых файлов в один, добавляя после каждого разделитель.\n",
        "\n",
        "**ОБЯЗАТЕЛЬНО:**\n",
        "- Создайте минимум 3 файла с разным содержимым\n",
        "- Выведите содержимое КАЖДОГО исходного файла\n",
        "- Выполните объединение\n",
        "- Выведите содержимое результирующего файла"
      ]
    },
    {
      "cell_type": "code",
      "execution_count": 18,
      "id": "581b5868",
      "metadata": {
        "id": "581b5868",
        "colab": {
          "base_uri": "https://localhost:8080/"
        },
        "outputId": "9e8e3454-1b7e-4235-dbd7-278d136f3357"
      },
      "outputs": [
        {
          "output_type": "stream",
          "name": "stdout",
          "text": [
            "Файл texxt.txt:\n",
            "Привет Андрей\n",
            "Привет Аня\n",
            "Привет Ваня\n",
            "\n",
            "Файл text.txt:\n",
            "Начало строки\n",
            "Конец строки\n",
            "\n",
            "Файл test.txt:\n",
            "Первая строка\n",
            "Вторая строка\n",
            "Третья строка\n",
            "\n",
            "Итоговый файл:\n",
            "Привет Андрей\n",
            "Привет Аня\n",
            "Привет Ваня\n",
            "Начало строки\n",
            "Конец строки\n",
            "Первая строка\n",
            "Вторая строка\n",
            "Третья строка\n",
            "\n"
          ]
        }
      ],
      "source": [
        "def merge_files(file_list, output_file):\n",
        "    with open(output_file, \"w\") as f:\n",
        "        for n in file_list:\n",
        "            with open(n, \"r\") as s:\n",
        "                f.write(s.read())\n",
        "\n",
        "\n",
        "with open(\"texxt.txt\", \"w\") as f:\n",
        "    f.write(\"Привет Андрей\\n\")\n",
        "    f.write(\"Привет Аня\\n\")\n",
        "    f.write(\"Привет Ваня\\n\")\n",
        "with open(\"text.txt\", \"w\") as f:\n",
        "    f.write(\"Начало строки\\n\")\n",
        "    f.write(\"Конец строки\\n\")\n",
        "with open(\"test.txt\", \"w\") as f:\n",
        "    f.write(\"Первая строка\\n\")\n",
        "    f.write(\"Вторая строка\\n\")\n",
        "    f.write(\"Третья строка\\n\")\n",
        "print(\"Файл texxt.txt:\")\n",
        "with open(\"texxt.txt\", \"r\") as f:\n",
        "    print(f.read())\n",
        "print(\"Файл text.txt:\")\n",
        "with open(\"text.txt\", \"r\") as f:\n",
        "    print(f.read())\n",
        "print(\"Файл test.txt:\")\n",
        "with open(\"test.txt\", \"r\") as f:\n",
        "    print(f.read())\n",
        "\n",
        "merge_files([\"texxt.txt\", \"text.txt\", \"test.txt\"], \"modified_texxt.txt\")\n",
        "\n",
        "print(\"Итоговый файл:\")\n",
        "with open(\"modified_texxt.txt\", \"r\") as f:\n",
        "    print(f.read())"
      ]
    },
    {
      "cell_type": "markdown",
      "id": "eb866091",
      "metadata": {
        "id": "eb866091"
      },
      "source": [
        "---"
      ]
    }
  ],
  "metadata": {
    "colab": {
      "provenance": [],
      "include_colab_link": true
    },
    "language_info": {
      "name": "python"
    },
    "kernelspec": {
      "name": "python3",
      "display_name": "Python 3"
    }
  },
  "nbformat": 4,
  "nbformat_minor": 5
}